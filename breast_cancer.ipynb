{
 "cells": [
  {
   "cell_type": "code",
   "execution_count": 54,
   "metadata": {},
   "outputs": [],
   "source": [
    "from pandas import *\n",
    "from numpy import *\n",
    "from sklearn.metrics import accuracy_score"
   ]
  },
  {
   "cell_type": "code",
   "execution_count": 2,
   "metadata": {},
   "outputs": [],
   "source": [
    "df1 = read_csv(\"breastcancer.csv\",delimiter=',',index_col=None)\n"
   ]
  },
  {
   "cell_type": "code",
   "execution_count": 3,
   "metadata": {},
   "outputs": [],
   "source": [
    "df1.columns=['Class','age','menopause','tumor-size','inv-nodes','node-caps','deg-malig','breast','breast-quad','irradiat']"
   ]
  },
  {
   "cell_type": "code",
   "execution_count": 4,
   "metadata": {},
   "outputs": [
    {
     "data": {
      "text/html": [
       "<div>\n",
       "<style scoped>\n",
       "    .dataframe tbody tr th:only-of-type {\n",
       "        vertical-align: middle;\n",
       "    }\n",
       "\n",
       "    .dataframe tbody tr th {\n",
       "        vertical-align: top;\n",
       "    }\n",
       "\n",
       "    .dataframe thead th {\n",
       "        text-align: right;\n",
       "    }\n",
       "</style>\n",
       "<table border=\"1\" class=\"dataframe\">\n",
       "  <thead>\n",
       "    <tr style=\"text-align: right;\">\n",
       "      <th></th>\n",
       "      <th>Class</th>\n",
       "      <th>age</th>\n",
       "      <th>menopause</th>\n",
       "      <th>tumor-size</th>\n",
       "      <th>inv-nodes</th>\n",
       "      <th>node-caps</th>\n",
       "      <th>deg-malig</th>\n",
       "      <th>breast</th>\n",
       "      <th>breast-quad</th>\n",
       "      <th>irradiat</th>\n",
       "    </tr>\n",
       "  </thead>\n",
       "  <tbody>\n",
       "    <tr>\n",
       "      <td>0</td>\n",
       "      <td>no-recurrence-events</td>\n",
       "      <td>40-49</td>\n",
       "      <td>premeno</td>\n",
       "      <td>20-24</td>\n",
       "      <td>0-2</td>\n",
       "      <td>no</td>\n",
       "      <td>2</td>\n",
       "      <td>right</td>\n",
       "      <td>right_up</td>\n",
       "      <td>no</td>\n",
       "    </tr>\n",
       "    <tr>\n",
       "      <td>1</td>\n",
       "      <td>no-recurrence-events</td>\n",
       "      <td>40-49</td>\n",
       "      <td>premeno</td>\n",
       "      <td>20-24</td>\n",
       "      <td>0-2</td>\n",
       "      <td>no</td>\n",
       "      <td>2</td>\n",
       "      <td>left</td>\n",
       "      <td>left_low</td>\n",
       "      <td>no</td>\n",
       "    </tr>\n",
       "    <tr>\n",
       "      <td>2</td>\n",
       "      <td>no-recurrence-events</td>\n",
       "      <td>60-69</td>\n",
       "      <td>ge40</td>\n",
       "      <td>15-19</td>\n",
       "      <td>0-2</td>\n",
       "      <td>no</td>\n",
       "      <td>2</td>\n",
       "      <td>right</td>\n",
       "      <td>left_up</td>\n",
       "      <td>no</td>\n",
       "    </tr>\n",
       "    <tr>\n",
       "      <td>3</td>\n",
       "      <td>no-recurrence-events</td>\n",
       "      <td>40-49</td>\n",
       "      <td>premeno</td>\n",
       "      <td>0-4</td>\n",
       "      <td>0-2</td>\n",
       "      <td>no</td>\n",
       "      <td>2</td>\n",
       "      <td>right</td>\n",
       "      <td>right_low</td>\n",
       "      <td>no</td>\n",
       "    </tr>\n",
       "    <tr>\n",
       "      <td>4</td>\n",
       "      <td>no-recurrence-events</td>\n",
       "      <td>60-69</td>\n",
       "      <td>ge40</td>\n",
       "      <td>15-19</td>\n",
       "      <td>0-2</td>\n",
       "      <td>no</td>\n",
       "      <td>2</td>\n",
       "      <td>left</td>\n",
       "      <td>left_low</td>\n",
       "      <td>no</td>\n",
       "    </tr>\n",
       "  </tbody>\n",
       "</table>\n",
       "</div>"
      ],
      "text/plain": [
       "                  Class    age menopause tumor-size inv-nodes node-caps  \\\n",
       "0  no-recurrence-events  40-49   premeno      20-24       0-2        no   \n",
       "1  no-recurrence-events  40-49   premeno      20-24       0-2        no   \n",
       "2  no-recurrence-events  60-69      ge40      15-19       0-2        no   \n",
       "3  no-recurrence-events  40-49   premeno        0-4       0-2        no   \n",
       "4  no-recurrence-events  60-69      ge40      15-19       0-2        no   \n",
       "\n",
       "   deg-malig breast breast-quad irradiat  \n",
       "0          2  right    right_up       no  \n",
       "1          2   left    left_low       no  \n",
       "2          2  right     left_up       no  \n",
       "3          2  right   right_low       no  \n",
       "4          2   left    left_low       no  "
      ]
     },
     "execution_count": 4,
     "metadata": {},
     "output_type": "execute_result"
    }
   ],
   "source": [
    "df1.head()"
   ]
  },
  {
   "cell_type": "code",
   "execution_count": 5,
   "metadata": {},
   "outputs": [
    {
     "data": {
      "text/plain": [
       "(285, 10)"
      ]
     },
     "execution_count": 5,
     "metadata": {},
     "output_type": "execute_result"
    }
   ],
   "source": [
    "df1.shape"
   ]
  },
  {
   "cell_type": "code",
   "execution_count": 6,
   "metadata": {},
   "outputs": [
    {
     "data": {
      "text/plain": [
       "Class          285\n",
       "age            285\n",
       "menopause      285\n",
       "tumor-size     285\n",
       "inv-nodes      285\n",
       "node-caps      285\n",
       "deg-malig      285\n",
       "breast         285\n",
       "breast-quad    285\n",
       "irradiat       285\n",
       "dtype: int64"
      ]
     },
     "execution_count": 6,
     "metadata": {},
     "output_type": "execute_result"
    }
   ],
   "source": [
    "df1.count()"
   ]
  },
  {
   "cell_type": "code",
   "execution_count": 7,
   "metadata": {},
   "outputs": [
    {
     "data": {
      "text/plain": [
       "premeno    149\n",
       "ge40       129\n",
       "lt40         7\n",
       "Name: menopause, dtype: int64"
      ]
     },
     "execution_count": 7,
     "metadata": {},
     "output_type": "execute_result"
    }
   ],
   "source": [
    "df1.menopause.value_counts()"
   ]
  },
  {
   "cell_type": "code",
   "execution_count": 8,
   "metadata": {
    "scrolled": true
   },
   "outputs": [
    {
     "data": {
      "text/plain": [
       "Class          0\n",
       "age            0\n",
       "menopause      0\n",
       "tumor-size     0\n",
       "inv-nodes      0\n",
       "node-caps      0\n",
       "deg-malig      0\n",
       "breast         0\n",
       "breast-quad    0\n",
       "irradiat       0\n",
       "dtype: int64"
      ]
     },
     "execution_count": 8,
     "metadata": {},
     "output_type": "execute_result"
    }
   ],
   "source": [
    "df1.isnull().sum()"
   ]
  },
  {
   "cell_type": "code",
   "execution_count": 9,
   "metadata": {},
   "outputs": [
    {
     "data": {
      "text/plain": [
       "50-59    96\n",
       "40-49    90\n",
       "60-69    57\n",
       "30-39    35\n",
       "70-79     6\n",
       "20-29     1\n",
       "Name: age, dtype: int64"
      ]
     },
     "execution_count": 9,
     "metadata": {},
     "output_type": "execute_result"
    }
   ],
   "source": [
    "df1.age.value_counts()"
   ]
  },
  {
   "cell_type": "code",
   "execution_count": 10,
   "metadata": {},
   "outputs": [
    {
     "data": {
      "text/plain": [
       "pandas.core.frame.DataFrame"
      ]
     },
     "execution_count": 10,
     "metadata": {},
     "output_type": "execute_result"
    }
   ],
   "source": [
    "type(df1)"
   ]
  },
  {
   "cell_type": "code",
   "execution_count": 11,
   "metadata": {},
   "outputs": [],
   "source": [
    "# for i,rows in df1.iterrows():\n",
    "#     if df1.loc[i,'age'] <= '39':\n",
    "#         df1.loc[i,'age'] = 0\n",
    "#     elif df1.loc[i,'age'] > '39' and df1.loc[i,'age'] <= '49':\n",
    "#         df1.loc[i,'age'] = 1\n",
    "#     elif df1.loc[i,'age'] > '49' and df1.loc[i,'age'] <= '59':\n",
    "#         df1.loc[i,'age'] = 2\n",
    "#     else:\n",
    "#         df1.loc[i,'age'] = 3\n",
    "        "
   ]
  },
  {
   "cell_type": "code",
   "execution_count": 12,
   "metadata": {},
   "outputs": [
    {
     "data": {
      "text/plain": [
       "50-59    96\n",
       "40-49    90\n",
       "60-69    57\n",
       "30-39    35\n",
       "70-79     6\n",
       "20-29     1\n",
       "Name: age, dtype: int64"
      ]
     },
     "execution_count": 12,
     "metadata": {},
     "output_type": "execute_result"
    }
   ],
   "source": [
    "df1.age.value_counts()"
   ]
  },
  {
   "cell_type": "code",
   "execution_count": 13,
   "metadata": {},
   "outputs": [
    {
     "data": {
      "text/html": [
       "<div>\n",
       "<style scoped>\n",
       "    .dataframe tbody tr th:only-of-type {\n",
       "        vertical-align: middle;\n",
       "    }\n",
       "\n",
       "    .dataframe tbody tr th {\n",
       "        vertical-align: top;\n",
       "    }\n",
       "\n",
       "    .dataframe thead th {\n",
       "        text-align: right;\n",
       "    }\n",
       "</style>\n",
       "<table border=\"1\" class=\"dataframe\">\n",
       "  <thead>\n",
       "    <tr style=\"text-align: right;\">\n",
       "      <th></th>\n",
       "      <th>Class</th>\n",
       "      <th>age</th>\n",
       "      <th>menopause</th>\n",
       "      <th>tumor-size</th>\n",
       "      <th>inv-nodes</th>\n",
       "      <th>node-caps</th>\n",
       "      <th>deg-malig</th>\n",
       "      <th>breast</th>\n",
       "      <th>breast-quad</th>\n",
       "      <th>irradiat</th>\n",
       "    </tr>\n",
       "  </thead>\n",
       "  <tbody>\n",
       "    <tr>\n",
       "      <td>0</td>\n",
       "      <td>no-recurrence-events</td>\n",
       "      <td>40-49</td>\n",
       "      <td>premeno</td>\n",
       "      <td>20-24</td>\n",
       "      <td>0-2</td>\n",
       "      <td>no</td>\n",
       "      <td>2</td>\n",
       "      <td>right</td>\n",
       "      <td>right_up</td>\n",
       "      <td>no</td>\n",
       "    </tr>\n",
       "    <tr>\n",
       "      <td>1</td>\n",
       "      <td>no-recurrence-events</td>\n",
       "      <td>40-49</td>\n",
       "      <td>premeno</td>\n",
       "      <td>20-24</td>\n",
       "      <td>0-2</td>\n",
       "      <td>no</td>\n",
       "      <td>2</td>\n",
       "      <td>left</td>\n",
       "      <td>left_low</td>\n",
       "      <td>no</td>\n",
       "    </tr>\n",
       "    <tr>\n",
       "      <td>2</td>\n",
       "      <td>no-recurrence-events</td>\n",
       "      <td>60-69</td>\n",
       "      <td>ge40</td>\n",
       "      <td>15-19</td>\n",
       "      <td>0-2</td>\n",
       "      <td>no</td>\n",
       "      <td>2</td>\n",
       "      <td>right</td>\n",
       "      <td>left_up</td>\n",
       "      <td>no</td>\n",
       "    </tr>\n",
       "    <tr>\n",
       "      <td>3</td>\n",
       "      <td>no-recurrence-events</td>\n",
       "      <td>40-49</td>\n",
       "      <td>premeno</td>\n",
       "      <td>0-4</td>\n",
       "      <td>0-2</td>\n",
       "      <td>no</td>\n",
       "      <td>2</td>\n",
       "      <td>right</td>\n",
       "      <td>right_low</td>\n",
       "      <td>no</td>\n",
       "    </tr>\n",
       "    <tr>\n",
       "      <td>4</td>\n",
       "      <td>no-recurrence-events</td>\n",
       "      <td>60-69</td>\n",
       "      <td>ge40</td>\n",
       "      <td>15-19</td>\n",
       "      <td>0-2</td>\n",
       "      <td>no</td>\n",
       "      <td>2</td>\n",
       "      <td>left</td>\n",
       "      <td>left_low</td>\n",
       "      <td>no</td>\n",
       "    </tr>\n",
       "  </tbody>\n",
       "</table>\n",
       "</div>"
      ],
      "text/plain": [
       "                  Class    age menopause tumor-size inv-nodes node-caps  \\\n",
       "0  no-recurrence-events  40-49   premeno      20-24       0-2        no   \n",
       "1  no-recurrence-events  40-49   premeno      20-24       0-2        no   \n",
       "2  no-recurrence-events  60-69      ge40      15-19       0-2        no   \n",
       "3  no-recurrence-events  40-49   premeno        0-4       0-2        no   \n",
       "4  no-recurrence-events  60-69      ge40      15-19       0-2        no   \n",
       "\n",
       "   deg-malig breast breast-quad irradiat  \n",
       "0          2  right    right_up       no  \n",
       "1          2   left    left_low       no  \n",
       "2          2  right     left_up       no  \n",
       "3          2  right   right_low       no  \n",
       "4          2   left    left_low       no  "
      ]
     },
     "execution_count": 13,
     "metadata": {},
     "output_type": "execute_result"
    }
   ],
   "source": [
    "df1.head()"
   ]
  },
  {
   "cell_type": "code",
   "execution_count": 14,
   "metadata": {},
   "outputs": [
    {
     "data": {
      "text/plain": [
       "30-34    59\n",
       "25-29    54\n",
       "20-24    50\n",
       "15-19    30\n",
       "10-14    28\n",
       "40-44    22\n",
       "35-39    19\n",
       "50-54     8\n",
       "0-4       8\n",
       "5-9       4\n",
       "45-49     3\n",
       "Name: tumor-size, dtype: int64"
      ]
     },
     "execution_count": 14,
     "metadata": {},
     "output_type": "execute_result"
    }
   ],
   "source": [
    "df1['tumor-size'].value_counts()"
   ]
  },
  {
   "cell_type": "code",
   "execution_count": 15,
   "metadata": {},
   "outputs": [],
   "source": [
    "##list = asarray(df1['tumor-size'].unique()).tolist()"
   ]
  },
  {
   "cell_type": "code",
   "execution_count": 16,
   "metadata": {},
   "outputs": [],
   "source": [
    "def avg(x,y):\n",
    "    return sum(range(x,y+1))/len(range(x,y+1));\n",
    "    \n"
   ]
  },
  {
   "cell_type": "code",
   "execution_count": 17,
   "metadata": {},
   "outputs": [
    {
     "data": {
      "text/plain": [
       "10"
      ]
     },
     "execution_count": 17,
     "metadata": {},
     "output_type": "execute_result"
    }
   ],
   "source": [
    "sum(range(0,5))"
   ]
  },
  {
   "cell_type": "code",
   "execution_count": 18,
   "metadata": {},
   "outputs": [
    {
     "data": {
      "text/plain": [
       "5"
      ]
     },
     "execution_count": 18,
     "metadata": {},
     "output_type": "execute_result"
    }
   ],
   "source": [
    "len(range(0,5))"
   ]
  },
  {
   "cell_type": "code",
   "execution_count": 19,
   "metadata": {},
   "outputs": [],
   "source": [
    "for i, rows in df1.iterrows():\n",
    "    list = str(df1.loc[i,'tumor-size']).split('-')\n",
    "    list = str(df1.loc[i,'inv-nodes']).split('-')\n",
    "    list = str(df1.loc[i,'age']).split('-')\n",
    "    df1.loc[i,'tumor-size'] = avg(int(list[0]),int(list[1]))\n",
    "    df1.loc[i,'inv-nodes'] = avg(int(list[0]),int(list[1]))\n",
    "    df1.loc[i,'age'] = avg(int(list[0]),int(list[1]))\n",
    "    "
   ]
  },
  {
   "cell_type": "code",
   "execution_count": 20,
   "metadata": {},
   "outputs": [],
   "source": [
    "# a = str(df1['tumor-size'].unique()).split('-')\n",
    "# type(a)\n",
    "# print(a)"
   ]
  },
  {
   "cell_type": "code",
   "execution_count": 21,
   "metadata": {},
   "outputs": [],
   "source": [
    "# s= 'abc-xyz'\n",
    "# list = s.split('-')\n",
    "# type(list)"
   ]
  },
  {
   "cell_type": "code",
   "execution_count": 22,
   "metadata": {},
   "outputs": [
    {
     "data": {
      "text/plain": [
       "numpy.ndarray"
      ]
     },
     "execution_count": 22,
     "metadata": {},
     "output_type": "execute_result"
    }
   ],
   "source": [
    "b = df1['tumor-size'].unique()\n",
    "type(b)"
   ]
  },
  {
   "cell_type": "code",
   "execution_count": 23,
   "metadata": {},
   "outputs": [
    {
     "data": {
      "text/plain": [
       "54.5    96\n",
       "44.5    90\n",
       "64.5    57\n",
       "34.5    35\n",
       "74.5     6\n",
       "24.5     1\n",
       "Name: inv-nodes, dtype: int64"
      ]
     },
     "execution_count": 23,
     "metadata": {},
     "output_type": "execute_result"
    }
   ],
   "source": [
    "df1['inv-nodes'].value_counts()"
   ]
  },
  {
   "cell_type": "code",
   "execution_count": 24,
   "metadata": {},
   "outputs": [
    {
     "data": {
      "text/html": [
       "<div>\n",
       "<style scoped>\n",
       "    .dataframe tbody tr th:only-of-type {\n",
       "        vertical-align: middle;\n",
       "    }\n",
       "\n",
       "    .dataframe tbody tr th {\n",
       "        vertical-align: top;\n",
       "    }\n",
       "\n",
       "    .dataframe thead th {\n",
       "        text-align: right;\n",
       "    }\n",
       "</style>\n",
       "<table border=\"1\" class=\"dataframe\">\n",
       "  <thead>\n",
       "    <tr style=\"text-align: right;\">\n",
       "      <th></th>\n",
       "      <th>Class</th>\n",
       "      <th>age</th>\n",
       "      <th>menopause</th>\n",
       "      <th>tumor-size</th>\n",
       "      <th>inv-nodes</th>\n",
       "      <th>node-caps</th>\n",
       "      <th>deg-malig</th>\n",
       "      <th>breast</th>\n",
       "      <th>breast-quad</th>\n",
       "      <th>irradiat</th>\n",
       "    </tr>\n",
       "  </thead>\n",
       "  <tbody>\n",
       "    <tr>\n",
       "      <td>0</td>\n",
       "      <td>no-recurrence-events</td>\n",
       "      <td>44.5</td>\n",
       "      <td>premeno</td>\n",
       "      <td>44.5</td>\n",
       "      <td>44.5</td>\n",
       "      <td>no</td>\n",
       "      <td>2</td>\n",
       "      <td>right</td>\n",
       "      <td>right_up</td>\n",
       "      <td>no</td>\n",
       "    </tr>\n",
       "    <tr>\n",
       "      <td>1</td>\n",
       "      <td>no-recurrence-events</td>\n",
       "      <td>44.5</td>\n",
       "      <td>premeno</td>\n",
       "      <td>44.5</td>\n",
       "      <td>44.5</td>\n",
       "      <td>no</td>\n",
       "      <td>2</td>\n",
       "      <td>left</td>\n",
       "      <td>left_low</td>\n",
       "      <td>no</td>\n",
       "    </tr>\n",
       "    <tr>\n",
       "      <td>2</td>\n",
       "      <td>no-recurrence-events</td>\n",
       "      <td>64.5</td>\n",
       "      <td>ge40</td>\n",
       "      <td>64.5</td>\n",
       "      <td>64.5</td>\n",
       "      <td>no</td>\n",
       "      <td>2</td>\n",
       "      <td>right</td>\n",
       "      <td>left_up</td>\n",
       "      <td>no</td>\n",
       "    </tr>\n",
       "    <tr>\n",
       "      <td>3</td>\n",
       "      <td>no-recurrence-events</td>\n",
       "      <td>44.5</td>\n",
       "      <td>premeno</td>\n",
       "      <td>44.5</td>\n",
       "      <td>44.5</td>\n",
       "      <td>no</td>\n",
       "      <td>2</td>\n",
       "      <td>right</td>\n",
       "      <td>right_low</td>\n",
       "      <td>no</td>\n",
       "    </tr>\n",
       "    <tr>\n",
       "      <td>4</td>\n",
       "      <td>no-recurrence-events</td>\n",
       "      <td>64.5</td>\n",
       "      <td>ge40</td>\n",
       "      <td>64.5</td>\n",
       "      <td>64.5</td>\n",
       "      <td>no</td>\n",
       "      <td>2</td>\n",
       "      <td>left</td>\n",
       "      <td>left_low</td>\n",
       "      <td>no</td>\n",
       "    </tr>\n",
       "    <tr>\n",
       "      <td>...</td>\n",
       "      <td>...</td>\n",
       "      <td>...</td>\n",
       "      <td>...</td>\n",
       "      <td>...</td>\n",
       "      <td>...</td>\n",
       "      <td>...</td>\n",
       "      <td>...</td>\n",
       "      <td>...</td>\n",
       "      <td>...</td>\n",
       "      <td>...</td>\n",
       "    </tr>\n",
       "    <tr>\n",
       "      <td>280</td>\n",
       "      <td>recurrence-events</td>\n",
       "      <td>34.5</td>\n",
       "      <td>premeno</td>\n",
       "      <td>34.5</td>\n",
       "      <td>34.5</td>\n",
       "      <td>no</td>\n",
       "      <td>2</td>\n",
       "      <td>left</td>\n",
       "      <td>left_up</td>\n",
       "      <td>no</td>\n",
       "    </tr>\n",
       "    <tr>\n",
       "      <td>281</td>\n",
       "      <td>recurrence-events</td>\n",
       "      <td>34.5</td>\n",
       "      <td>premeno</td>\n",
       "      <td>34.5</td>\n",
       "      <td>34.5</td>\n",
       "      <td>no</td>\n",
       "      <td>3</td>\n",
       "      <td>left</td>\n",
       "      <td>left_up</td>\n",
       "      <td>yes</td>\n",
       "    </tr>\n",
       "    <tr>\n",
       "      <td>282</td>\n",
       "      <td>recurrence-events</td>\n",
       "      <td>64.5</td>\n",
       "      <td>ge40</td>\n",
       "      <td>64.5</td>\n",
       "      <td>64.5</td>\n",
       "      <td>no</td>\n",
       "      <td>1</td>\n",
       "      <td>right</td>\n",
       "      <td>left_up</td>\n",
       "      <td>no</td>\n",
       "    </tr>\n",
       "    <tr>\n",
       "      <td>283</td>\n",
       "      <td>recurrence-events</td>\n",
       "      <td>44.5</td>\n",
       "      <td>ge40</td>\n",
       "      <td>44.5</td>\n",
       "      <td>44.5</td>\n",
       "      <td>no</td>\n",
       "      <td>3</td>\n",
       "      <td>left</td>\n",
       "      <td>left_low</td>\n",
       "      <td>no</td>\n",
       "    </tr>\n",
       "    <tr>\n",
       "      <td>284</td>\n",
       "      <td>recurrence-events</td>\n",
       "      <td>54.5</td>\n",
       "      <td>ge40</td>\n",
       "      <td>54.5</td>\n",
       "      <td>54.5</td>\n",
       "      <td>no</td>\n",
       "      <td>3</td>\n",
       "      <td>left</td>\n",
       "      <td>left_low</td>\n",
       "      <td>no</td>\n",
       "    </tr>\n",
       "  </tbody>\n",
       "</table>\n",
       "<p>285 rows × 10 columns</p>\n",
       "</div>"
      ],
      "text/plain": [
       "                    Class   age menopause tumor-size inv-nodes node-caps  \\\n",
       "0    no-recurrence-events  44.5   premeno       44.5      44.5        no   \n",
       "1    no-recurrence-events  44.5   premeno       44.5      44.5        no   \n",
       "2    no-recurrence-events  64.5      ge40       64.5      64.5        no   \n",
       "3    no-recurrence-events  44.5   premeno       44.5      44.5        no   \n",
       "4    no-recurrence-events  64.5      ge40       64.5      64.5        no   \n",
       "..                    ...   ...       ...        ...       ...       ...   \n",
       "280     recurrence-events  34.5   premeno       34.5      34.5        no   \n",
       "281     recurrence-events  34.5   premeno       34.5      34.5        no   \n",
       "282     recurrence-events  64.5      ge40       64.5      64.5        no   \n",
       "283     recurrence-events  44.5      ge40       44.5      44.5        no   \n",
       "284     recurrence-events  54.5      ge40       54.5      54.5        no   \n",
       "\n",
       "     deg-malig breast breast-quad irradiat  \n",
       "0            2  right    right_up       no  \n",
       "1            2   left    left_low       no  \n",
       "2            2  right     left_up       no  \n",
       "3            2  right   right_low       no  \n",
       "4            2   left    left_low       no  \n",
       "..         ...    ...         ...      ...  \n",
       "280          2   left     left_up       no  \n",
       "281          3   left     left_up      yes  \n",
       "282          1  right     left_up       no  \n",
       "283          3   left    left_low       no  \n",
       "284          3   left    left_low       no  \n",
       "\n",
       "[285 rows x 10 columns]"
      ]
     },
     "execution_count": 24,
     "metadata": {},
     "output_type": "execute_result"
    }
   ],
   "source": [
    "df1"
   ]
  },
  {
   "cell_type": "code",
   "execution_count": 25,
   "metadata": {},
   "outputs": [],
   "source": [
    "df1['age']=df1['age'].astype(float)\n",
    " "
   ]
  },
  {
   "cell_type": "code",
   "execution_count": 26,
   "metadata": {},
   "outputs": [],
   "source": [
    "for col in ['age','tumor-size','inv-nodes']:\n",
    "    df1[col]=df1[col].astype(float)"
   ]
  },
  {
   "cell_type": "code",
   "execution_count": 27,
   "metadata": {},
   "outputs": [
    {
     "data": {
      "text/plain": [
       "Class           object\n",
       "age            float64\n",
       "menopause       object\n",
       "tumor-size     float64\n",
       "inv-nodes      float64\n",
       "node-caps       object\n",
       "deg-malig        int64\n",
       "breast          object\n",
       "breast-quad     object\n",
       "irradiat        object\n",
       "dtype: object"
      ]
     },
     "execution_count": 27,
     "metadata": {},
     "output_type": "execute_result"
    }
   ],
   "source": [
    "df1.dtypes"
   ]
  },
  {
   "cell_type": "code",
   "execution_count": 28,
   "metadata": {},
   "outputs": [
    {
     "data": {
      "text/plain": [
       "(50, 59)"
      ]
     },
     "execution_count": 28,
     "metadata": {},
     "output_type": "execute_result"
    }
   ],
   "source": [
    "int(list[0]),int(list[1])"
   ]
  },
  {
   "cell_type": "code",
   "execution_count": 29,
   "metadata": {},
   "outputs": [],
   "source": [
    "from sklearn.preprocessing import LabelEncoder\n",
    "le=LabelEncoder()"
   ]
  },
  {
   "cell_type": "code",
   "execution_count": 30,
   "metadata": {},
   "outputs": [
    {
     "data": {
      "text/html": [
       "<div>\n",
       "<style scoped>\n",
       "    .dataframe tbody tr th:only-of-type {\n",
       "        vertical-align: middle;\n",
       "    }\n",
       "\n",
       "    .dataframe tbody tr th {\n",
       "        vertical-align: top;\n",
       "    }\n",
       "\n",
       "    .dataframe thead th {\n",
       "        text-align: right;\n",
       "    }\n",
       "</style>\n",
       "<table border=\"1\" class=\"dataframe\">\n",
       "  <thead>\n",
       "    <tr style=\"text-align: right;\">\n",
       "      <th></th>\n",
       "      <th>Class</th>\n",
       "      <th>age</th>\n",
       "      <th>menopause</th>\n",
       "      <th>tumor-size</th>\n",
       "      <th>inv-nodes</th>\n",
       "      <th>node-caps</th>\n",
       "      <th>deg-malig</th>\n",
       "      <th>breast</th>\n",
       "      <th>breast-quad</th>\n",
       "      <th>irradiat</th>\n",
       "    </tr>\n",
       "  </thead>\n",
       "  <tbody>\n",
       "    <tr>\n",
       "      <td>0</td>\n",
       "      <td>0</td>\n",
       "      <td>44.5</td>\n",
       "      <td>2</td>\n",
       "      <td>44.5</td>\n",
       "      <td>44.5</td>\n",
       "      <td>1</td>\n",
       "      <td>2</td>\n",
       "      <td>1</td>\n",
       "      <td>5</td>\n",
       "      <td>0</td>\n",
       "    </tr>\n",
       "    <tr>\n",
       "      <td>1</td>\n",
       "      <td>0</td>\n",
       "      <td>44.5</td>\n",
       "      <td>2</td>\n",
       "      <td>44.5</td>\n",
       "      <td>44.5</td>\n",
       "      <td>1</td>\n",
       "      <td>2</td>\n",
       "      <td>0</td>\n",
       "      <td>2</td>\n",
       "      <td>0</td>\n",
       "    </tr>\n",
       "    <tr>\n",
       "      <td>2</td>\n",
       "      <td>0</td>\n",
       "      <td>64.5</td>\n",
       "      <td>0</td>\n",
       "      <td>64.5</td>\n",
       "      <td>64.5</td>\n",
       "      <td>1</td>\n",
       "      <td>2</td>\n",
       "      <td>1</td>\n",
       "      <td>3</td>\n",
       "      <td>0</td>\n",
       "    </tr>\n",
       "    <tr>\n",
       "      <td>3</td>\n",
       "      <td>0</td>\n",
       "      <td>44.5</td>\n",
       "      <td>2</td>\n",
       "      <td>44.5</td>\n",
       "      <td>44.5</td>\n",
       "      <td>1</td>\n",
       "      <td>2</td>\n",
       "      <td>1</td>\n",
       "      <td>4</td>\n",
       "      <td>0</td>\n",
       "    </tr>\n",
       "    <tr>\n",
       "      <td>4</td>\n",
       "      <td>0</td>\n",
       "      <td>64.5</td>\n",
       "      <td>0</td>\n",
       "      <td>64.5</td>\n",
       "      <td>64.5</td>\n",
       "      <td>1</td>\n",
       "      <td>2</td>\n",
       "      <td>0</td>\n",
       "      <td>2</td>\n",
       "      <td>0</td>\n",
       "    </tr>\n",
       "    <tr>\n",
       "      <td>...</td>\n",
       "      <td>...</td>\n",
       "      <td>...</td>\n",
       "      <td>...</td>\n",
       "      <td>...</td>\n",
       "      <td>...</td>\n",
       "      <td>...</td>\n",
       "      <td>...</td>\n",
       "      <td>...</td>\n",
       "      <td>...</td>\n",
       "      <td>...</td>\n",
       "    </tr>\n",
       "    <tr>\n",
       "      <td>280</td>\n",
       "      <td>1</td>\n",
       "      <td>34.5</td>\n",
       "      <td>2</td>\n",
       "      <td>34.5</td>\n",
       "      <td>34.5</td>\n",
       "      <td>1</td>\n",
       "      <td>2</td>\n",
       "      <td>0</td>\n",
       "      <td>3</td>\n",
       "      <td>0</td>\n",
       "    </tr>\n",
       "    <tr>\n",
       "      <td>281</td>\n",
       "      <td>1</td>\n",
       "      <td>34.5</td>\n",
       "      <td>2</td>\n",
       "      <td>34.5</td>\n",
       "      <td>34.5</td>\n",
       "      <td>1</td>\n",
       "      <td>3</td>\n",
       "      <td>0</td>\n",
       "      <td>3</td>\n",
       "      <td>1</td>\n",
       "    </tr>\n",
       "    <tr>\n",
       "      <td>282</td>\n",
       "      <td>1</td>\n",
       "      <td>64.5</td>\n",
       "      <td>0</td>\n",
       "      <td>64.5</td>\n",
       "      <td>64.5</td>\n",
       "      <td>1</td>\n",
       "      <td>1</td>\n",
       "      <td>1</td>\n",
       "      <td>3</td>\n",
       "      <td>0</td>\n",
       "    </tr>\n",
       "    <tr>\n",
       "      <td>283</td>\n",
       "      <td>1</td>\n",
       "      <td>44.5</td>\n",
       "      <td>0</td>\n",
       "      <td>44.5</td>\n",
       "      <td>44.5</td>\n",
       "      <td>1</td>\n",
       "      <td>3</td>\n",
       "      <td>0</td>\n",
       "      <td>2</td>\n",
       "      <td>0</td>\n",
       "    </tr>\n",
       "    <tr>\n",
       "      <td>284</td>\n",
       "      <td>1</td>\n",
       "      <td>54.5</td>\n",
       "      <td>0</td>\n",
       "      <td>54.5</td>\n",
       "      <td>54.5</td>\n",
       "      <td>1</td>\n",
       "      <td>3</td>\n",
       "      <td>0</td>\n",
       "      <td>2</td>\n",
       "      <td>0</td>\n",
       "    </tr>\n",
       "  </tbody>\n",
       "</table>\n",
       "<p>285 rows × 10 columns</p>\n",
       "</div>"
      ],
      "text/plain": [
       "     Class   age  menopause  tumor-size  inv-nodes  node-caps  deg-malig  \\\n",
       "0        0  44.5          2        44.5       44.5          1          2   \n",
       "1        0  44.5          2        44.5       44.5          1          2   \n",
       "2        0  64.5          0        64.5       64.5          1          2   \n",
       "3        0  44.5          2        44.5       44.5          1          2   \n",
       "4        0  64.5          0        64.5       64.5          1          2   \n",
       "..     ...   ...        ...         ...        ...        ...        ...   \n",
       "280      1  34.5          2        34.5       34.5          1          2   \n",
       "281      1  34.5          2        34.5       34.5          1          3   \n",
       "282      1  64.5          0        64.5       64.5          1          1   \n",
       "283      1  44.5          0        44.5       44.5          1          3   \n",
       "284      1  54.5          0        54.5       54.5          1          3   \n",
       "\n",
       "     breast  breast-quad  irradiat  \n",
       "0         1            5         0  \n",
       "1         0            2         0  \n",
       "2         1            3         0  \n",
       "3         1            4         0  \n",
       "4         0            2         0  \n",
       "..      ...          ...       ...  \n",
       "280       0            3         0  \n",
       "281       0            3         1  \n",
       "282       1            3         0  \n",
       "283       0            2         0  \n",
       "284       0            2         0  \n",
       "\n",
       "[285 rows x 10 columns]"
      ]
     },
     "execution_count": 30,
     "metadata": {},
     "output_type": "execute_result"
    }
   ],
   "source": [
    "cat_var =df1.dtypes.loc[df1.dtypes == 'object'].index\n",
    "cat_var\n",
    "for var in cat_var:\n",
    "    df1[var] = le.fit_transform(df1[var])\n",
    "    \n",
    "df1"
   ]
  },
  {
   "cell_type": "code",
   "execution_count": 31,
   "metadata": {},
   "outputs": [
    {
     "name": "stdout",
     "output_type": "stream",
     "text": [
      "Class : [0 1]\n",
      "age : [44.5 64.5 54.5 34.5 74.5 24.5]\n",
      "menopause : [2 0 1]\n",
      "tumor-size : [44.5 64.5 54.5 34.5 74.5 24.5]\n",
      "inv-nodes : [44.5 64.5 54.5 34.5 74.5 24.5]\n",
      "node-caps : [1 2 0]\n",
      "deg-malig : [2 1 3]\n",
      "breast : [1 0]\n",
      "breast-quad : [5 2 3 4 1 0]\n",
      "irradiat : [0 1]\n"
     ]
    }
   ],
   "source": [
    "for col in df1.columns:\n",
    "    print(col,':',df1[col].unique())"
   ]
  },
  {
   "cell_type": "code",
   "execution_count": 32,
   "metadata": {},
   "outputs": [],
   "source": [
    "#because v.few unique values and no nas \n",
    "for col in ['menopause','node-caps','deg-malig','breast-quad']:\n",
    "    store_dum=get_dummies(df1[col],drop_first=True)\n",
    "    df1=concat([store_dum,df1],axis=1)\n",
    "    df1.drop([col],axis=1,inplace=True)"
   ]
  },
  {
   "cell_type": "code",
   "execution_count": 33,
   "metadata": {},
   "outputs": [
    {
     "data": {
      "text/html": [
       "<div>\n",
       "<style scoped>\n",
       "    .dataframe tbody tr th:only-of-type {\n",
       "        vertical-align: middle;\n",
       "    }\n",
       "\n",
       "    .dataframe tbody tr th {\n",
       "        vertical-align: top;\n",
       "    }\n",
       "\n",
       "    .dataframe thead th {\n",
       "        text-align: right;\n",
       "    }\n",
       "</style>\n",
       "<table border=\"1\" class=\"dataframe\">\n",
       "  <thead>\n",
       "    <tr style=\"text-align: right;\">\n",
       "      <th></th>\n",
       "      <th>1</th>\n",
       "      <th>2</th>\n",
       "      <th>3</th>\n",
       "      <th>4</th>\n",
       "      <th>5</th>\n",
       "      <th>2</th>\n",
       "      <th>3</th>\n",
       "      <th>1</th>\n",
       "      <th>2</th>\n",
       "      <th>1</th>\n",
       "      <th>2</th>\n",
       "      <th>Class</th>\n",
       "      <th>age</th>\n",
       "      <th>tumor-size</th>\n",
       "      <th>inv-nodes</th>\n",
       "      <th>breast</th>\n",
       "      <th>irradiat</th>\n",
       "    </tr>\n",
       "  </thead>\n",
       "  <tbody>\n",
       "    <tr>\n",
       "      <td>0</td>\n",
       "      <td>0</td>\n",
       "      <td>0</td>\n",
       "      <td>0</td>\n",
       "      <td>0</td>\n",
       "      <td>1</td>\n",
       "      <td>1</td>\n",
       "      <td>0</td>\n",
       "      <td>1</td>\n",
       "      <td>0</td>\n",
       "      <td>0</td>\n",
       "      <td>1</td>\n",
       "      <td>0</td>\n",
       "      <td>44.5</td>\n",
       "      <td>44.5</td>\n",
       "      <td>44.5</td>\n",
       "      <td>1</td>\n",
       "      <td>0</td>\n",
       "    </tr>\n",
       "    <tr>\n",
       "      <td>1</td>\n",
       "      <td>0</td>\n",
       "      <td>1</td>\n",
       "      <td>0</td>\n",
       "      <td>0</td>\n",
       "      <td>0</td>\n",
       "      <td>1</td>\n",
       "      <td>0</td>\n",
       "      <td>1</td>\n",
       "      <td>0</td>\n",
       "      <td>0</td>\n",
       "      <td>1</td>\n",
       "      <td>0</td>\n",
       "      <td>44.5</td>\n",
       "      <td>44.5</td>\n",
       "      <td>44.5</td>\n",
       "      <td>0</td>\n",
       "      <td>0</td>\n",
       "    </tr>\n",
       "    <tr>\n",
       "      <td>2</td>\n",
       "      <td>0</td>\n",
       "      <td>0</td>\n",
       "      <td>1</td>\n",
       "      <td>0</td>\n",
       "      <td>0</td>\n",
       "      <td>1</td>\n",
       "      <td>0</td>\n",
       "      <td>1</td>\n",
       "      <td>0</td>\n",
       "      <td>0</td>\n",
       "      <td>0</td>\n",
       "      <td>0</td>\n",
       "      <td>64.5</td>\n",
       "      <td>64.5</td>\n",
       "      <td>64.5</td>\n",
       "      <td>1</td>\n",
       "      <td>0</td>\n",
       "    </tr>\n",
       "    <tr>\n",
       "      <td>3</td>\n",
       "      <td>0</td>\n",
       "      <td>0</td>\n",
       "      <td>0</td>\n",
       "      <td>1</td>\n",
       "      <td>0</td>\n",
       "      <td>1</td>\n",
       "      <td>0</td>\n",
       "      <td>1</td>\n",
       "      <td>0</td>\n",
       "      <td>0</td>\n",
       "      <td>1</td>\n",
       "      <td>0</td>\n",
       "      <td>44.5</td>\n",
       "      <td>44.5</td>\n",
       "      <td>44.5</td>\n",
       "      <td>1</td>\n",
       "      <td>0</td>\n",
       "    </tr>\n",
       "    <tr>\n",
       "      <td>4</td>\n",
       "      <td>0</td>\n",
       "      <td>1</td>\n",
       "      <td>0</td>\n",
       "      <td>0</td>\n",
       "      <td>0</td>\n",
       "      <td>1</td>\n",
       "      <td>0</td>\n",
       "      <td>1</td>\n",
       "      <td>0</td>\n",
       "      <td>0</td>\n",
       "      <td>0</td>\n",
       "      <td>0</td>\n",
       "      <td>64.5</td>\n",
       "      <td>64.5</td>\n",
       "      <td>64.5</td>\n",
       "      <td>0</td>\n",
       "      <td>0</td>\n",
       "    </tr>\n",
       "    <tr>\n",
       "      <td>...</td>\n",
       "      <td>...</td>\n",
       "      <td>...</td>\n",
       "      <td>...</td>\n",
       "      <td>...</td>\n",
       "      <td>...</td>\n",
       "      <td>...</td>\n",
       "      <td>...</td>\n",
       "      <td>...</td>\n",
       "      <td>...</td>\n",
       "      <td>...</td>\n",
       "      <td>...</td>\n",
       "      <td>...</td>\n",
       "      <td>...</td>\n",
       "      <td>...</td>\n",
       "      <td>...</td>\n",
       "      <td>...</td>\n",
       "      <td>...</td>\n",
       "    </tr>\n",
       "    <tr>\n",
       "      <td>280</td>\n",
       "      <td>0</td>\n",
       "      <td>0</td>\n",
       "      <td>1</td>\n",
       "      <td>0</td>\n",
       "      <td>0</td>\n",
       "      <td>1</td>\n",
       "      <td>0</td>\n",
       "      <td>1</td>\n",
       "      <td>0</td>\n",
       "      <td>0</td>\n",
       "      <td>1</td>\n",
       "      <td>1</td>\n",
       "      <td>34.5</td>\n",
       "      <td>34.5</td>\n",
       "      <td>34.5</td>\n",
       "      <td>0</td>\n",
       "      <td>0</td>\n",
       "    </tr>\n",
       "    <tr>\n",
       "      <td>281</td>\n",
       "      <td>0</td>\n",
       "      <td>0</td>\n",
       "      <td>1</td>\n",
       "      <td>0</td>\n",
       "      <td>0</td>\n",
       "      <td>0</td>\n",
       "      <td>1</td>\n",
       "      <td>1</td>\n",
       "      <td>0</td>\n",
       "      <td>0</td>\n",
       "      <td>1</td>\n",
       "      <td>1</td>\n",
       "      <td>34.5</td>\n",
       "      <td>34.5</td>\n",
       "      <td>34.5</td>\n",
       "      <td>0</td>\n",
       "      <td>1</td>\n",
       "    </tr>\n",
       "    <tr>\n",
       "      <td>282</td>\n",
       "      <td>0</td>\n",
       "      <td>0</td>\n",
       "      <td>1</td>\n",
       "      <td>0</td>\n",
       "      <td>0</td>\n",
       "      <td>0</td>\n",
       "      <td>0</td>\n",
       "      <td>1</td>\n",
       "      <td>0</td>\n",
       "      <td>0</td>\n",
       "      <td>0</td>\n",
       "      <td>1</td>\n",
       "      <td>64.5</td>\n",
       "      <td>64.5</td>\n",
       "      <td>64.5</td>\n",
       "      <td>1</td>\n",
       "      <td>0</td>\n",
       "    </tr>\n",
       "    <tr>\n",
       "      <td>283</td>\n",
       "      <td>0</td>\n",
       "      <td>1</td>\n",
       "      <td>0</td>\n",
       "      <td>0</td>\n",
       "      <td>0</td>\n",
       "      <td>0</td>\n",
       "      <td>1</td>\n",
       "      <td>1</td>\n",
       "      <td>0</td>\n",
       "      <td>0</td>\n",
       "      <td>0</td>\n",
       "      <td>1</td>\n",
       "      <td>44.5</td>\n",
       "      <td>44.5</td>\n",
       "      <td>44.5</td>\n",
       "      <td>0</td>\n",
       "      <td>0</td>\n",
       "    </tr>\n",
       "    <tr>\n",
       "      <td>284</td>\n",
       "      <td>0</td>\n",
       "      <td>1</td>\n",
       "      <td>0</td>\n",
       "      <td>0</td>\n",
       "      <td>0</td>\n",
       "      <td>0</td>\n",
       "      <td>1</td>\n",
       "      <td>1</td>\n",
       "      <td>0</td>\n",
       "      <td>0</td>\n",
       "      <td>0</td>\n",
       "      <td>1</td>\n",
       "      <td>54.5</td>\n",
       "      <td>54.5</td>\n",
       "      <td>54.5</td>\n",
       "      <td>0</td>\n",
       "      <td>0</td>\n",
       "    </tr>\n",
       "  </tbody>\n",
       "</table>\n",
       "<p>285 rows × 17 columns</p>\n",
       "</div>"
      ],
      "text/plain": [
       "     1  2  3  4  5  2  3  1  2  1  2  Class   age  tumor-size  inv-nodes  \\\n",
       "0    0  0  0  0  1  1  0  1  0  0  1      0  44.5        44.5       44.5   \n",
       "1    0  1  0  0  0  1  0  1  0  0  1      0  44.5        44.5       44.5   \n",
       "2    0  0  1  0  0  1  0  1  0  0  0      0  64.5        64.5       64.5   \n",
       "3    0  0  0  1  0  1  0  1  0  0  1      0  44.5        44.5       44.5   \n",
       "4    0  1  0  0  0  1  0  1  0  0  0      0  64.5        64.5       64.5   \n",
       "..  .. .. .. .. .. .. .. .. .. .. ..    ...   ...         ...        ...   \n",
       "280  0  0  1  0  0  1  0  1  0  0  1      1  34.5        34.5       34.5   \n",
       "281  0  0  1  0  0  0  1  1  0  0  1      1  34.5        34.5       34.5   \n",
       "282  0  0  1  0  0  0  0  1  0  0  0      1  64.5        64.5       64.5   \n",
       "283  0  1  0  0  0  0  1  1  0  0  0      1  44.5        44.5       44.5   \n",
       "284  0  1  0  0  0  0  1  1  0  0  0      1  54.5        54.5       54.5   \n",
       "\n",
       "     breast  irradiat  \n",
       "0         1         0  \n",
       "1         0         0  \n",
       "2         1         0  \n",
       "3         1         0  \n",
       "4         0         0  \n",
       "..      ...       ...  \n",
       "280       0         0  \n",
       "281       0         1  \n",
       "282       1         0  \n",
       "283       0         0  \n",
       "284       0         0  \n",
       "\n",
       "[285 rows x 17 columns]"
      ]
     },
     "execution_count": 33,
     "metadata": {},
     "output_type": "execute_result"
    }
   ],
   "source": [
    "df1"
   ]
  },
  {
   "cell_type": "code",
   "execution_count": 34,
   "metadata": {},
   "outputs": [
    {
     "data": {
      "text/plain": [
       "1               uint8\n",
       "2               uint8\n",
       "3               uint8\n",
       "4               uint8\n",
       "5               uint8\n",
       "2               uint8\n",
       "3               uint8\n",
       "1               uint8\n",
       "2               uint8\n",
       "1               uint8\n",
       "2               uint8\n",
       "Class           int32\n",
       "age           float64\n",
       "tumor-size    float64\n",
       "inv-nodes     float64\n",
       "breast          int32\n",
       "irradiat        int32\n",
       "dtype: object"
      ]
     },
     "execution_count": 34,
     "metadata": {},
     "output_type": "execute_result"
    }
   ],
   "source": [
    "df1.dtypes"
   ]
  },
  {
   "cell_type": "code",
   "execution_count": 35,
   "metadata": {},
   "outputs": [
    {
     "data": {
      "text/plain": [
       "Index([           1,            2,            3,            4,            5,\n",
       "                  2,            3,            1,            2,            1,\n",
       "                  2,      'Class',        'age', 'tumor-size',  'inv-nodes',\n",
       "           'breast',   'irradiat'],\n",
       "      dtype='object')"
      ]
     },
     "execution_count": 35,
     "metadata": {},
     "output_type": "execute_result"
    }
   ],
   "source": [
    "df1.columns"
   ]
  },
  {
   "cell_type": "code",
   "execution_count": 36,
   "metadata": {},
   "outputs": [
    {
     "data": {
      "text/plain": [
       "0    151\n",
       "1    134\n",
       "Name: breast, dtype: int64"
      ]
     },
     "execution_count": 36,
     "metadata": {},
     "output_type": "execute_result"
    }
   ],
   "source": [
    "df1.breast.value_counts()"
   ]
  },
  {
   "cell_type": "code",
   "execution_count": 37,
   "metadata": {},
   "outputs": [],
   "source": [
    "x=df1.drop('irradiat',axis=1)"
   ]
  },
  {
   "cell_type": "code",
   "execution_count": 38,
   "metadata": {},
   "outputs": [
    {
     "data": {
      "text/html": [
       "<div>\n",
       "<style scoped>\n",
       "    .dataframe tbody tr th:only-of-type {\n",
       "        vertical-align: middle;\n",
       "    }\n",
       "\n",
       "    .dataframe tbody tr th {\n",
       "        vertical-align: top;\n",
       "    }\n",
       "\n",
       "    .dataframe thead th {\n",
       "        text-align: right;\n",
       "    }\n",
       "</style>\n",
       "<table border=\"1\" class=\"dataframe\">\n",
       "  <thead>\n",
       "    <tr style=\"text-align: right;\">\n",
       "      <th></th>\n",
       "      <th>1</th>\n",
       "      <th>2</th>\n",
       "      <th>3</th>\n",
       "      <th>4</th>\n",
       "      <th>5</th>\n",
       "      <th>2</th>\n",
       "      <th>3</th>\n",
       "      <th>1</th>\n",
       "      <th>2</th>\n",
       "      <th>1</th>\n",
       "      <th>2</th>\n",
       "      <th>Class</th>\n",
       "      <th>age</th>\n",
       "      <th>tumor-size</th>\n",
       "      <th>inv-nodes</th>\n",
       "      <th>breast</th>\n",
       "    </tr>\n",
       "  </thead>\n",
       "  <tbody>\n",
       "    <tr>\n",
       "      <td>0</td>\n",
       "      <td>0</td>\n",
       "      <td>0</td>\n",
       "      <td>0</td>\n",
       "      <td>0</td>\n",
       "      <td>1</td>\n",
       "      <td>1</td>\n",
       "      <td>0</td>\n",
       "      <td>1</td>\n",
       "      <td>0</td>\n",
       "      <td>0</td>\n",
       "      <td>1</td>\n",
       "      <td>0</td>\n",
       "      <td>44.5</td>\n",
       "      <td>44.5</td>\n",
       "      <td>44.5</td>\n",
       "      <td>1</td>\n",
       "    </tr>\n",
       "    <tr>\n",
       "      <td>1</td>\n",
       "      <td>0</td>\n",
       "      <td>1</td>\n",
       "      <td>0</td>\n",
       "      <td>0</td>\n",
       "      <td>0</td>\n",
       "      <td>1</td>\n",
       "      <td>0</td>\n",
       "      <td>1</td>\n",
       "      <td>0</td>\n",
       "      <td>0</td>\n",
       "      <td>1</td>\n",
       "      <td>0</td>\n",
       "      <td>44.5</td>\n",
       "      <td>44.5</td>\n",
       "      <td>44.5</td>\n",
       "      <td>0</td>\n",
       "    </tr>\n",
       "    <tr>\n",
       "      <td>2</td>\n",
       "      <td>0</td>\n",
       "      <td>0</td>\n",
       "      <td>1</td>\n",
       "      <td>0</td>\n",
       "      <td>0</td>\n",
       "      <td>1</td>\n",
       "      <td>0</td>\n",
       "      <td>1</td>\n",
       "      <td>0</td>\n",
       "      <td>0</td>\n",
       "      <td>0</td>\n",
       "      <td>0</td>\n",
       "      <td>64.5</td>\n",
       "      <td>64.5</td>\n",
       "      <td>64.5</td>\n",
       "      <td>1</td>\n",
       "    </tr>\n",
       "    <tr>\n",
       "      <td>3</td>\n",
       "      <td>0</td>\n",
       "      <td>0</td>\n",
       "      <td>0</td>\n",
       "      <td>1</td>\n",
       "      <td>0</td>\n",
       "      <td>1</td>\n",
       "      <td>0</td>\n",
       "      <td>1</td>\n",
       "      <td>0</td>\n",
       "      <td>0</td>\n",
       "      <td>1</td>\n",
       "      <td>0</td>\n",
       "      <td>44.5</td>\n",
       "      <td>44.5</td>\n",
       "      <td>44.5</td>\n",
       "      <td>1</td>\n",
       "    </tr>\n",
       "    <tr>\n",
       "      <td>4</td>\n",
       "      <td>0</td>\n",
       "      <td>1</td>\n",
       "      <td>0</td>\n",
       "      <td>0</td>\n",
       "      <td>0</td>\n",
       "      <td>1</td>\n",
       "      <td>0</td>\n",
       "      <td>1</td>\n",
       "      <td>0</td>\n",
       "      <td>0</td>\n",
       "      <td>0</td>\n",
       "      <td>0</td>\n",
       "      <td>64.5</td>\n",
       "      <td>64.5</td>\n",
       "      <td>64.5</td>\n",
       "      <td>0</td>\n",
       "    </tr>\n",
       "    <tr>\n",
       "      <td>...</td>\n",
       "      <td>...</td>\n",
       "      <td>...</td>\n",
       "      <td>...</td>\n",
       "      <td>...</td>\n",
       "      <td>...</td>\n",
       "      <td>...</td>\n",
       "      <td>...</td>\n",
       "      <td>...</td>\n",
       "      <td>...</td>\n",
       "      <td>...</td>\n",
       "      <td>...</td>\n",
       "      <td>...</td>\n",
       "      <td>...</td>\n",
       "      <td>...</td>\n",
       "      <td>...</td>\n",
       "      <td>...</td>\n",
       "    </tr>\n",
       "    <tr>\n",
       "      <td>280</td>\n",
       "      <td>0</td>\n",
       "      <td>0</td>\n",
       "      <td>1</td>\n",
       "      <td>0</td>\n",
       "      <td>0</td>\n",
       "      <td>1</td>\n",
       "      <td>0</td>\n",
       "      <td>1</td>\n",
       "      <td>0</td>\n",
       "      <td>0</td>\n",
       "      <td>1</td>\n",
       "      <td>1</td>\n",
       "      <td>34.5</td>\n",
       "      <td>34.5</td>\n",
       "      <td>34.5</td>\n",
       "      <td>0</td>\n",
       "    </tr>\n",
       "    <tr>\n",
       "      <td>281</td>\n",
       "      <td>0</td>\n",
       "      <td>0</td>\n",
       "      <td>1</td>\n",
       "      <td>0</td>\n",
       "      <td>0</td>\n",
       "      <td>0</td>\n",
       "      <td>1</td>\n",
       "      <td>1</td>\n",
       "      <td>0</td>\n",
       "      <td>0</td>\n",
       "      <td>1</td>\n",
       "      <td>1</td>\n",
       "      <td>34.5</td>\n",
       "      <td>34.5</td>\n",
       "      <td>34.5</td>\n",
       "      <td>0</td>\n",
       "    </tr>\n",
       "    <tr>\n",
       "      <td>282</td>\n",
       "      <td>0</td>\n",
       "      <td>0</td>\n",
       "      <td>1</td>\n",
       "      <td>0</td>\n",
       "      <td>0</td>\n",
       "      <td>0</td>\n",
       "      <td>0</td>\n",
       "      <td>1</td>\n",
       "      <td>0</td>\n",
       "      <td>0</td>\n",
       "      <td>0</td>\n",
       "      <td>1</td>\n",
       "      <td>64.5</td>\n",
       "      <td>64.5</td>\n",
       "      <td>64.5</td>\n",
       "      <td>1</td>\n",
       "    </tr>\n",
       "    <tr>\n",
       "      <td>283</td>\n",
       "      <td>0</td>\n",
       "      <td>1</td>\n",
       "      <td>0</td>\n",
       "      <td>0</td>\n",
       "      <td>0</td>\n",
       "      <td>0</td>\n",
       "      <td>1</td>\n",
       "      <td>1</td>\n",
       "      <td>0</td>\n",
       "      <td>0</td>\n",
       "      <td>0</td>\n",
       "      <td>1</td>\n",
       "      <td>44.5</td>\n",
       "      <td>44.5</td>\n",
       "      <td>44.5</td>\n",
       "      <td>0</td>\n",
       "    </tr>\n",
       "    <tr>\n",
       "      <td>284</td>\n",
       "      <td>0</td>\n",
       "      <td>1</td>\n",
       "      <td>0</td>\n",
       "      <td>0</td>\n",
       "      <td>0</td>\n",
       "      <td>0</td>\n",
       "      <td>1</td>\n",
       "      <td>1</td>\n",
       "      <td>0</td>\n",
       "      <td>0</td>\n",
       "      <td>0</td>\n",
       "      <td>1</td>\n",
       "      <td>54.5</td>\n",
       "      <td>54.5</td>\n",
       "      <td>54.5</td>\n",
       "      <td>0</td>\n",
       "    </tr>\n",
       "  </tbody>\n",
       "</table>\n",
       "<p>285 rows × 16 columns</p>\n",
       "</div>"
      ],
      "text/plain": [
       "     1  2  3  4  5  2  3  1  2  1  2  Class   age  tumor-size  inv-nodes  \\\n",
       "0    0  0  0  0  1  1  0  1  0  0  1      0  44.5        44.5       44.5   \n",
       "1    0  1  0  0  0  1  0  1  0  0  1      0  44.5        44.5       44.5   \n",
       "2    0  0  1  0  0  1  0  1  0  0  0      0  64.5        64.5       64.5   \n",
       "3    0  0  0  1  0  1  0  1  0  0  1      0  44.5        44.5       44.5   \n",
       "4    0  1  0  0  0  1  0  1  0  0  0      0  64.5        64.5       64.5   \n",
       "..  .. .. .. .. .. .. .. .. .. .. ..    ...   ...         ...        ...   \n",
       "280  0  0  1  0  0  1  0  1  0  0  1      1  34.5        34.5       34.5   \n",
       "281  0  0  1  0  0  0  1  1  0  0  1      1  34.5        34.5       34.5   \n",
       "282  0  0  1  0  0  0  0  1  0  0  0      1  64.5        64.5       64.5   \n",
       "283  0  1  0  0  0  0  1  1  0  0  0      1  44.5        44.5       44.5   \n",
       "284  0  1  0  0  0  0  1  1  0  0  0      1  54.5        54.5       54.5   \n",
       "\n",
       "     breast  \n",
       "0         1  \n",
       "1         0  \n",
       "2         1  \n",
       "3         1  \n",
       "4         0  \n",
       "..      ...  \n",
       "280       0  \n",
       "281       0  \n",
       "282       1  \n",
       "283       0  \n",
       "284       0  \n",
       "\n",
       "[285 rows x 16 columns]"
      ]
     },
     "execution_count": 38,
     "metadata": {},
     "output_type": "execute_result"
    }
   ],
   "source": [
    "x"
   ]
  },
  {
   "cell_type": "code",
   "execution_count": 39,
   "metadata": {},
   "outputs": [],
   "source": [
    "y=df1['irradiat']"
   ]
  },
  {
   "cell_type": "code",
   "execution_count": 40,
   "metadata": {},
   "outputs": [
    {
     "data": {
      "text/plain": [
       "0      0\n",
       "1      0\n",
       "2      0\n",
       "3      0\n",
       "4      0\n",
       "      ..\n",
       "280    0\n",
       "281    1\n",
       "282    0\n",
       "283    0\n",
       "284    0\n",
       "Name: irradiat, Length: 285, dtype: int32"
      ]
     },
     "execution_count": 40,
     "metadata": {},
     "output_type": "execute_result"
    }
   ],
   "source": [
    "y"
   ]
  },
  {
   "cell_type": "code",
   "execution_count": 41,
   "metadata": {},
   "outputs": [
    {
     "data": {
      "text/plain": [
       "0    217\n",
       "1     68\n",
       "Name: irradiat, dtype: int64"
      ]
     },
     "execution_count": 41,
     "metadata": {},
     "output_type": "execute_result"
    }
   ],
   "source": [
    "y.value_counts()"
   ]
  },
  {
   "cell_type": "code",
   "execution_count": 42,
   "metadata": {},
   "outputs": [],
   "source": [
    "import seaborn as sns\n",
    "#sns.pairplot(df1)"
   ]
  },
  {
   "cell_type": "code",
   "execution_count": 43,
   "metadata": {},
   "outputs": [],
   "source": [
    "from sklearn.preprocessing import StandardScaler \n",
    "sc = StandardScaler() "
   ]
  },
  {
   "cell_type": "code",
   "execution_count": 44,
   "metadata": {},
   "outputs": [],
   "source": [
    "x=sc.fit_transform(x)"
   ]
  },
  {
   "cell_type": "code",
   "execution_count": 45,
   "metadata": {},
   "outputs": [
    {
     "data": {
      "text/plain": [
       "array([[-0.28203804, -0.78696771, -0.71830178, ..., -0.66552543,\n",
       "        -0.66552543,  1.06153929],\n",
       "       [-0.28203804,  1.27070016, -0.71830178, ..., -0.66552543,\n",
       "        -0.66552543, -0.94202825],\n",
       "       [-0.28203804, -0.78696771,  1.39217252, ...,  1.32059757,\n",
       "         1.32059757,  1.06153929],\n",
       "       ...,\n",
       "       [-0.28203804, -0.78696771,  1.39217252, ...,  1.32059757,\n",
       "         1.32059757,  1.06153929],\n",
       "       [-0.28203804,  1.27070016, -0.71830178, ..., -0.66552543,\n",
       "        -0.66552543, -0.94202825],\n",
       "       [-0.28203804,  1.27070016, -0.71830178, ...,  0.32753607,\n",
       "         0.32753607, -0.94202825]])"
      ]
     },
     "execution_count": 45,
     "metadata": {},
     "output_type": "execute_result"
    }
   ],
   "source": [
    "x"
   ]
  },
  {
   "cell_type": "code",
   "execution_count": 46,
   "metadata": {},
   "outputs": [],
   "source": [
    "x=DataFrame(sc.fit_transform(x))"
   ]
  },
  {
   "cell_type": "code",
   "execution_count": 47,
   "metadata": {},
   "outputs": [
    {
     "data": {
      "text/html": [
       "<div>\n",
       "<style scoped>\n",
       "    .dataframe tbody tr th:only-of-type {\n",
       "        vertical-align: middle;\n",
       "    }\n",
       "\n",
       "    .dataframe tbody tr th {\n",
       "        vertical-align: top;\n",
       "    }\n",
       "\n",
       "    .dataframe thead th {\n",
       "        text-align: right;\n",
       "    }\n",
       "</style>\n",
       "<table border=\"1\" class=\"dataframe\">\n",
       "  <thead>\n",
       "    <tr style=\"text-align: right;\">\n",
       "      <th></th>\n",
       "      <th>0</th>\n",
       "      <th>1</th>\n",
       "      <th>2</th>\n",
       "      <th>3</th>\n",
       "      <th>4</th>\n",
       "      <th>5</th>\n",
       "      <th>6</th>\n",
       "      <th>7</th>\n",
       "      <th>8</th>\n",
       "      <th>9</th>\n",
       "      <th>10</th>\n",
       "      <th>11</th>\n",
       "      <th>12</th>\n",
       "      <th>13</th>\n",
       "      <th>14</th>\n",
       "      <th>15</th>\n",
       "    </tr>\n",
       "  </thead>\n",
       "  <tbody>\n",
       "    <tr>\n",
       "      <td>0</td>\n",
       "      <td>-0.282038</td>\n",
       "      <td>-0.786968</td>\n",
       "      <td>-0.718302</td>\n",
       "      <td>-0.303239</td>\n",
       "      <td>2.763397</td>\n",
       "      <td>1.091928</td>\n",
       "      <td>-0.646460</td>\n",
       "      <td>0.538138</td>\n",
       "      <td>-0.494511</td>\n",
       "      <td>-0.158682</td>\n",
       "      <td>0.955380</td>\n",
       "      <td>-0.65192</td>\n",
       "      <td>-0.665525</td>\n",
       "      <td>-0.665525</td>\n",
       "      <td>-0.665525</td>\n",
       "      <td>1.061539</td>\n",
       "    </tr>\n",
       "    <tr>\n",
       "      <td>1</td>\n",
       "      <td>-0.282038</td>\n",
       "      <td>1.270700</td>\n",
       "      <td>-0.718302</td>\n",
       "      <td>-0.303239</td>\n",
       "      <td>-0.361873</td>\n",
       "      <td>1.091928</td>\n",
       "      <td>-0.646460</td>\n",
       "      <td>0.538138</td>\n",
       "      <td>-0.494511</td>\n",
       "      <td>-0.158682</td>\n",
       "      <td>0.955380</td>\n",
       "      <td>-0.65192</td>\n",
       "      <td>-0.665525</td>\n",
       "      <td>-0.665525</td>\n",
       "      <td>-0.665525</td>\n",
       "      <td>-0.942028</td>\n",
       "    </tr>\n",
       "    <tr>\n",
       "      <td>2</td>\n",
       "      <td>-0.282038</td>\n",
       "      <td>-0.786968</td>\n",
       "      <td>1.392173</td>\n",
       "      <td>-0.303239</td>\n",
       "      <td>-0.361873</td>\n",
       "      <td>1.091928</td>\n",
       "      <td>-0.646460</td>\n",
       "      <td>0.538138</td>\n",
       "      <td>-0.494511</td>\n",
       "      <td>-0.158682</td>\n",
       "      <td>-1.046704</td>\n",
       "      <td>-0.65192</td>\n",
       "      <td>1.320598</td>\n",
       "      <td>1.320598</td>\n",
       "      <td>1.320598</td>\n",
       "      <td>1.061539</td>\n",
       "    </tr>\n",
       "    <tr>\n",
       "      <td>3</td>\n",
       "      <td>-0.282038</td>\n",
       "      <td>-0.786968</td>\n",
       "      <td>-0.718302</td>\n",
       "      <td>3.297726</td>\n",
       "      <td>-0.361873</td>\n",
       "      <td>1.091928</td>\n",
       "      <td>-0.646460</td>\n",
       "      <td>0.538138</td>\n",
       "      <td>-0.494511</td>\n",
       "      <td>-0.158682</td>\n",
       "      <td>0.955380</td>\n",
       "      <td>-0.65192</td>\n",
       "      <td>-0.665525</td>\n",
       "      <td>-0.665525</td>\n",
       "      <td>-0.665525</td>\n",
       "      <td>1.061539</td>\n",
       "    </tr>\n",
       "    <tr>\n",
       "      <td>4</td>\n",
       "      <td>-0.282038</td>\n",
       "      <td>1.270700</td>\n",
       "      <td>-0.718302</td>\n",
       "      <td>-0.303239</td>\n",
       "      <td>-0.361873</td>\n",
       "      <td>1.091928</td>\n",
       "      <td>-0.646460</td>\n",
       "      <td>0.538138</td>\n",
       "      <td>-0.494511</td>\n",
       "      <td>-0.158682</td>\n",
       "      <td>-1.046704</td>\n",
       "      <td>-0.65192</td>\n",
       "      <td>1.320598</td>\n",
       "      <td>1.320598</td>\n",
       "      <td>1.320598</td>\n",
       "      <td>-0.942028</td>\n",
       "    </tr>\n",
       "    <tr>\n",
       "      <td>...</td>\n",
       "      <td>...</td>\n",
       "      <td>...</td>\n",
       "      <td>...</td>\n",
       "      <td>...</td>\n",
       "      <td>...</td>\n",
       "      <td>...</td>\n",
       "      <td>...</td>\n",
       "      <td>...</td>\n",
       "      <td>...</td>\n",
       "      <td>...</td>\n",
       "      <td>...</td>\n",
       "      <td>...</td>\n",
       "      <td>...</td>\n",
       "      <td>...</td>\n",
       "      <td>...</td>\n",
       "      <td>...</td>\n",
       "    </tr>\n",
       "    <tr>\n",
       "      <td>280</td>\n",
       "      <td>-0.282038</td>\n",
       "      <td>-0.786968</td>\n",
       "      <td>1.392173</td>\n",
       "      <td>-0.303239</td>\n",
       "      <td>-0.361873</td>\n",
       "      <td>1.091928</td>\n",
       "      <td>-0.646460</td>\n",
       "      <td>0.538138</td>\n",
       "      <td>-0.494511</td>\n",
       "      <td>-0.158682</td>\n",
       "      <td>0.955380</td>\n",
       "      <td>1.53393</td>\n",
       "      <td>-1.658587</td>\n",
       "      <td>-1.658587</td>\n",
       "      <td>-1.658587</td>\n",
       "      <td>-0.942028</td>\n",
       "    </tr>\n",
       "    <tr>\n",
       "      <td>281</td>\n",
       "      <td>-0.282038</td>\n",
       "      <td>-0.786968</td>\n",
       "      <td>1.392173</td>\n",
       "      <td>-0.303239</td>\n",
       "      <td>-0.361873</td>\n",
       "      <td>-0.915811</td>\n",
       "      <td>1.546886</td>\n",
       "      <td>0.538138</td>\n",
       "      <td>-0.494511</td>\n",
       "      <td>-0.158682</td>\n",
       "      <td>0.955380</td>\n",
       "      <td>1.53393</td>\n",
       "      <td>-1.658587</td>\n",
       "      <td>-1.658587</td>\n",
       "      <td>-1.658587</td>\n",
       "      <td>-0.942028</td>\n",
       "    </tr>\n",
       "    <tr>\n",
       "      <td>282</td>\n",
       "      <td>-0.282038</td>\n",
       "      <td>-0.786968</td>\n",
       "      <td>1.392173</td>\n",
       "      <td>-0.303239</td>\n",
       "      <td>-0.361873</td>\n",
       "      <td>-0.915811</td>\n",
       "      <td>-0.646460</td>\n",
       "      <td>0.538138</td>\n",
       "      <td>-0.494511</td>\n",
       "      <td>-0.158682</td>\n",
       "      <td>-1.046704</td>\n",
       "      <td>1.53393</td>\n",
       "      <td>1.320598</td>\n",
       "      <td>1.320598</td>\n",
       "      <td>1.320598</td>\n",
       "      <td>1.061539</td>\n",
       "    </tr>\n",
       "    <tr>\n",
       "      <td>283</td>\n",
       "      <td>-0.282038</td>\n",
       "      <td>1.270700</td>\n",
       "      <td>-0.718302</td>\n",
       "      <td>-0.303239</td>\n",
       "      <td>-0.361873</td>\n",
       "      <td>-0.915811</td>\n",
       "      <td>1.546886</td>\n",
       "      <td>0.538138</td>\n",
       "      <td>-0.494511</td>\n",
       "      <td>-0.158682</td>\n",
       "      <td>-1.046704</td>\n",
       "      <td>1.53393</td>\n",
       "      <td>-0.665525</td>\n",
       "      <td>-0.665525</td>\n",
       "      <td>-0.665525</td>\n",
       "      <td>-0.942028</td>\n",
       "    </tr>\n",
       "    <tr>\n",
       "      <td>284</td>\n",
       "      <td>-0.282038</td>\n",
       "      <td>1.270700</td>\n",
       "      <td>-0.718302</td>\n",
       "      <td>-0.303239</td>\n",
       "      <td>-0.361873</td>\n",
       "      <td>-0.915811</td>\n",
       "      <td>1.546886</td>\n",
       "      <td>0.538138</td>\n",
       "      <td>-0.494511</td>\n",
       "      <td>-0.158682</td>\n",
       "      <td>-1.046704</td>\n",
       "      <td>1.53393</td>\n",
       "      <td>0.327536</td>\n",
       "      <td>0.327536</td>\n",
       "      <td>0.327536</td>\n",
       "      <td>-0.942028</td>\n",
       "    </tr>\n",
       "  </tbody>\n",
       "</table>\n",
       "<p>285 rows × 16 columns</p>\n",
       "</div>"
      ],
      "text/plain": [
       "            0         1         2         3         4         5         6  \\\n",
       "0   -0.282038 -0.786968 -0.718302 -0.303239  2.763397  1.091928 -0.646460   \n",
       "1   -0.282038  1.270700 -0.718302 -0.303239 -0.361873  1.091928 -0.646460   \n",
       "2   -0.282038 -0.786968  1.392173 -0.303239 -0.361873  1.091928 -0.646460   \n",
       "3   -0.282038 -0.786968 -0.718302  3.297726 -0.361873  1.091928 -0.646460   \n",
       "4   -0.282038  1.270700 -0.718302 -0.303239 -0.361873  1.091928 -0.646460   \n",
       "..        ...       ...       ...       ...       ...       ...       ...   \n",
       "280 -0.282038 -0.786968  1.392173 -0.303239 -0.361873  1.091928 -0.646460   \n",
       "281 -0.282038 -0.786968  1.392173 -0.303239 -0.361873 -0.915811  1.546886   \n",
       "282 -0.282038 -0.786968  1.392173 -0.303239 -0.361873 -0.915811 -0.646460   \n",
       "283 -0.282038  1.270700 -0.718302 -0.303239 -0.361873 -0.915811  1.546886   \n",
       "284 -0.282038  1.270700 -0.718302 -0.303239 -0.361873 -0.915811  1.546886   \n",
       "\n",
       "            7         8         9        10       11        12        13  \\\n",
       "0    0.538138 -0.494511 -0.158682  0.955380 -0.65192 -0.665525 -0.665525   \n",
       "1    0.538138 -0.494511 -0.158682  0.955380 -0.65192 -0.665525 -0.665525   \n",
       "2    0.538138 -0.494511 -0.158682 -1.046704 -0.65192  1.320598  1.320598   \n",
       "3    0.538138 -0.494511 -0.158682  0.955380 -0.65192 -0.665525 -0.665525   \n",
       "4    0.538138 -0.494511 -0.158682 -1.046704 -0.65192  1.320598  1.320598   \n",
       "..        ...       ...       ...       ...      ...       ...       ...   \n",
       "280  0.538138 -0.494511 -0.158682  0.955380  1.53393 -1.658587 -1.658587   \n",
       "281  0.538138 -0.494511 -0.158682  0.955380  1.53393 -1.658587 -1.658587   \n",
       "282  0.538138 -0.494511 -0.158682 -1.046704  1.53393  1.320598  1.320598   \n",
       "283  0.538138 -0.494511 -0.158682 -1.046704  1.53393 -0.665525 -0.665525   \n",
       "284  0.538138 -0.494511 -0.158682 -1.046704  1.53393  0.327536  0.327536   \n",
       "\n",
       "           14        15  \n",
       "0   -0.665525  1.061539  \n",
       "1   -0.665525 -0.942028  \n",
       "2    1.320598  1.061539  \n",
       "3   -0.665525  1.061539  \n",
       "4    1.320598 -0.942028  \n",
       "..        ...       ...  \n",
       "280 -1.658587 -0.942028  \n",
       "281 -1.658587 -0.942028  \n",
       "282  1.320598  1.061539  \n",
       "283 -0.665525 -0.942028  \n",
       "284  0.327536 -0.942028  \n",
       "\n",
       "[285 rows x 16 columns]"
      ]
     },
     "execution_count": 47,
     "metadata": {},
     "output_type": "execute_result"
    }
   ],
   "source": [
    "x"
   ]
  },
  {
   "cell_type": "code",
   "execution_count": 48,
   "metadata": {},
   "outputs": [
    {
     "data": {
      "text/plain": [
       "((285, 16), (285,))"
      ]
     },
     "execution_count": 48,
     "metadata": {},
     "output_type": "execute_result"
    }
   ],
   "source": [
    "#applying stratified K fold\n",
    "x.shape,y.shape\n"
   ]
  },
  {
   "cell_type": "code",
   "execution_count": 55,
   "metadata": {},
   "outputs": [
    {
     "name": "stdout",
     "output_type": "stream",
     "text": [
      "[0.7894736842105263, 0.8421052631578947, 0.7368421052631579, 0.5087719298245614, 0.38596491228070173]\n"
     ]
    }
   ],
   "source": [
    "from sklearn.model_selection import StratifiedKFold\n",
    "accuracy = []\n",
    "skf = StratifiedKFold(n_splits = 5,random_state=None)\n",
    "skf.get_n_splits(x,y)\n",
    "for train_index,test_index in skf.split(x,y):\n",
    "    #print('Train:',train_index,'Validation :',test_index)\n",
    "    x1train,x1test=x.iloc[train_index],x.iloc[test_index]\n",
    "    y1train,y1test=y.iloc[train_index],y.iloc[test_index]\n",
    "    model.fit(x1train,y1train)\n",
    "    predict = model.predict(x1test)\n",
    "    score=accuracy_score(predict,y1test)\n",
    "    accuracy.append(score)\n",
    "print(accuracy)"
   ]
  },
  {
   "cell_type": "code",
   "execution_count": 56,
   "metadata": {},
   "outputs": [
    {
     "data": {
      "text/plain": [
       "0.6526315789473685"
      ]
     },
     "execution_count": 56,
     "metadata": {},
     "output_type": "execute_result"
    }
   ],
   "source": [
    "array(accuracy).mean()"
   ]
  },
  {
   "cell_type": "code",
   "execution_count": 57,
   "metadata": {},
   "outputs": [],
   "source": [
    "from sklearn import model_selection\n",
    "xtrain,xtest,ytrain,ytest = model_selection.train_test_split(x,y,test_size=0.3,random_state=42)"
   ]
  },
  {
   "cell_type": "code",
   "execution_count": 58,
   "metadata": {},
   "outputs": [],
   "source": [
    "from sklearn import tree"
   ]
  },
  {
   "cell_type": "code",
   "execution_count": 59,
   "metadata": {},
   "outputs": [],
   "source": [
    "model=tree.DecisionTreeClassifier()"
   ]
  },
  {
   "cell_type": "code",
   "execution_count": 60,
   "metadata": {},
   "outputs": [
    {
     "data": {
      "text/plain": [
       "DecisionTreeClassifier(ccp_alpha=0.0, class_weight=None, criterion='gini',\n",
       "                       max_depth=None, max_features=None, max_leaf_nodes=None,\n",
       "                       min_impurity_decrease=0.0, min_impurity_split=None,\n",
       "                       min_samples_leaf=1, min_samples_split=2,\n",
       "                       min_weight_fraction_leaf=0.0, presort='deprecated',\n",
       "                       random_state=None, splitter='best')"
      ]
     },
     "execution_count": 60,
     "metadata": {},
     "output_type": "execute_result"
    }
   ],
   "source": [
    "model.fit(xtrain,ytrain)"
   ]
  },
  {
   "cell_type": "code",
   "execution_count": 61,
   "metadata": {},
   "outputs": [],
   "source": [
    "p=model.predict(xtest)\n"
   ]
  },
  {
   "cell_type": "code",
   "execution_count": 62,
   "metadata": {},
   "outputs": [
    {
     "name": "stdout",
     "output_type": "stream",
     "text": [
      "Classification Report\n",
      "              precision    recall  f1-score   support\n",
      "\n",
      "           0       0.84      0.84      0.84        70\n",
      "           1       0.31      0.31      0.31        16\n",
      "\n",
      "    accuracy                           0.74        86\n",
      "   macro avg       0.58      0.58      0.58        86\n",
      "weighted avg       0.74      0.74      0.74        86\n",
      "\n"
     ]
    }
   ],
   "source": [
    "from sklearn.metrics import confusion_matrix,classification_report\n",
    "print(\"Classification Report\")\n",
    "print (classification_report(ytest,p))\n",
    "\n",
    "\n"
   ]
  },
  {
   "cell_type": "code",
   "execution_count": 63,
   "metadata": {},
   "outputs": [
    {
     "data": {
      "text/plain": [
       "array([[59, 11],\n",
       "       [11,  5]], dtype=int64)"
      ]
     },
     "execution_count": 63,
     "metadata": {},
     "output_type": "execute_result"
    }
   ],
   "source": [
    "from sklearn.metrics import confusion_matrix\n",
    "cmd=confusion_matrix(ytest,p)\n",
    "cmd"
   ]
  },
  {
   "cell_type": "code",
   "execution_count": 64,
   "metadata": {},
   "outputs": [
    {
     "data": {
      "text/plain": [
       "0.7441860465116279"
      ]
     },
     "execution_count": 64,
     "metadata": {},
     "output_type": "execute_result"
    }
   ],
   "source": [
    "model.score(xtest,ytest)"
   ]
  },
  {
   "cell_type": "code",
   "execution_count": 65,
   "metadata": {},
   "outputs": [],
   "source": [
    "from sklearn.linear_model import LogisticRegression"
   ]
  },
  {
   "cell_type": "code",
   "execution_count": 66,
   "metadata": {},
   "outputs": [
    {
     "data": {
      "text/plain": [
       "LogisticRegression(C=0.0001, class_weight='balanced', dual=False,\n",
       "                   fit_intercept=True, intercept_scaling=1, l1_ratio=None,\n",
       "                   max_iter=100, multi_class='auto', n_jobs=None, penalty='l2',\n",
       "                   random_state=42, solver='lbfgs', tol=1e-06, verbose=0,\n",
       "                   warm_start=False)"
      ]
     },
     "execution_count": 66,
     "metadata": {},
     "output_type": "execute_result"
    }
   ],
   "source": [
    "model_logistic=LogisticRegression(C = 0.0001, tol = 0.000001, class_weight = \"balanced\",random_state = 42)\n",
    "model_logistic.fit(xtrain,ytrain)"
   ]
  },
  {
   "cell_type": "code",
   "execution_count": 67,
   "metadata": {},
   "outputs": [],
   "source": [
    "predict_logistic=model_logistic.predict(xtest)"
   ]
  },
  {
   "cell_type": "code",
   "execution_count": 68,
   "metadata": {},
   "outputs": [
    {
     "data": {
      "text/plain": [
       "array([[54, 16],\n",
       "       [ 7,  9]], dtype=int64)"
      ]
     },
     "execution_count": 68,
     "metadata": {},
     "output_type": "execute_result"
    }
   ],
   "source": [
    "confusion_matrix(ytest,predict_logistic)"
   ]
  },
  {
   "cell_type": "code",
   "execution_count": 69,
   "metadata": {},
   "outputs": [],
   "source": [
    "from sklearn.metrics import roc_auc_score"
   ]
  },
  {
   "cell_type": "code",
   "execution_count": 70,
   "metadata": {},
   "outputs": [
    {
     "data": {
      "text/plain": [
       "0.6669642857142858"
      ]
     },
     "execution_count": 70,
     "metadata": {},
     "output_type": "execute_result"
    }
   ],
   "source": [
    "auc_logistic=roc_auc_score(ytest,predict_logistic)\n",
    "auc_logistic"
   ]
  },
  {
   "cell_type": "code",
   "execution_count": 71,
   "metadata": {},
   "outputs": [
    {
     "data": {
      "text/plain": [
       "0.7325581395348837"
      ]
     },
     "execution_count": 71,
     "metadata": {},
     "output_type": "execute_result"
    }
   ],
   "source": [
    "from sklearn.metrics import accuracy_score\n",
    "accuracy = accuracy_score(ytest,predict_logistic)\n",
    "accuracy"
   ]
  },
  {
   "cell_type": "code",
   "execution_count": 72,
   "metadata": {},
   "outputs": [],
   "source": [
    "from sklearn.ensemble import RandomForestClassifier"
   ]
  },
  {
   "cell_type": "code",
   "execution_count": 73,
   "metadata": {},
   "outputs": [
    {
     "data": {
      "text/plain": [
       "RandomForestClassifier(bootstrap=True, ccp_alpha=0.0, class_weight=None,\n",
       "                       criterion='entropy', max_depth=20, max_features='auto',\n",
       "                       max_leaf_nodes=None, max_samples=None,\n",
       "                       min_impurity_decrease=0.0, min_impurity_split=None,\n",
       "                       min_samples_leaf=1, min_samples_split=2,\n",
       "                       min_weight_fraction_leaf=0.0, n_estimators=50,\n",
       "                       n_jobs=None, oob_score=False, random_state=None,\n",
       "                       verbose=0, warm_start=False)"
      ]
     },
     "execution_count": 73,
     "metadata": {},
     "output_type": "execute_result"
    }
   ],
   "source": [
    "model_rf = RandomForestClassifier(max_depth = 20,criterion='entropy',n_estimators = 50)\n",
    "model_rf.fit(xtrain,ytrain)"
   ]
  },
  {
   "cell_type": "code",
   "execution_count": 74,
   "metadata": {},
   "outputs": [],
   "source": [
    "predict_rf=model_rf.predict(xtest)"
   ]
  },
  {
   "cell_type": "code",
   "execution_count": 75,
   "metadata": {},
   "outputs": [
    {
     "data": {
      "text/plain": [
       "0.6616071428571428"
      ]
     },
     "execution_count": 75,
     "metadata": {},
     "output_type": "execute_result"
    }
   ],
   "source": [
    "auc_rf=roc_auc_score(ytest,predict_rf)\n",
    "auc_rf"
   ]
  },
  {
   "cell_type": "code",
   "execution_count": null,
   "metadata": {},
   "outputs": [],
   "source": []
  }
 ],
 "metadata": {
  "kernelspec": {
   "display_name": "Python 3",
   "language": "python",
   "name": "python3"
  },
  "language_info": {
   "codemirror_mode": {
    "name": "ipython",
    "version": 3
   },
   "file_extension": ".py",
   "mimetype": "text/x-python",
   "name": "python",
   "nbconvert_exporter": "python",
   "pygments_lexer": "ipython3",
   "version": "3.7.4"
  }
 },
 "nbformat": 4,
 "nbformat_minor": 2
}
